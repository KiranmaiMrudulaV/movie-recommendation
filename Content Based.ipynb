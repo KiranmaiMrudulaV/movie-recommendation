{
 "cells": [
  {
   "cell_type": "code",
   "execution_count": 10,
   "metadata": {},
   "outputs": [],
   "source": [
    "import pandas as pd"
   ]
  },
  {
   "cell_type": "code",
   "execution_count": 11,
   "metadata": {},
   "outputs": [],
   "source": [
    "import numpy as np"
   ]
  },
  {
   "cell_type": "code",
   "execution_count": null,
   "metadata": {
    "collapsed": true,
    "jupyter": {
     "outputs_hidden": true
    }
   },
   "outputs": [],
   "source": []
  },
  {
   "cell_type": "code",
   "execution_count": 12,
   "metadata": {},
   "outputs": [],
   "source": [
    "movies = pd.read_csv(\"Data/movies.dat\", sep=\";\", index_col=0)"
   ]
  },
  {
   "cell_type": "code",
   "execution_count": 13,
   "metadata": {},
   "outputs": [
    {
     "data": {
      "text/html": [
       "<div>\n",
       "<style scoped>\n",
       "    .dataframe tbody tr th:only-of-type {\n",
       "        vertical-align: middle;\n",
       "    }\n",
       "\n",
       "    .dataframe tbody tr th {\n",
       "        vertical-align: top;\n",
       "    }\n",
       "\n",
       "    .dataframe thead th {\n",
       "        text-align: right;\n",
       "    }\n",
       "</style>\n",
       "<table border=\"1\" class=\"dataframe\">\n",
       "  <thead>\n",
       "    <tr style=\"text-align: right;\">\n",
       "      <th></th>\n",
       "      <th>title</th>\n",
       "      <th>genre</th>\n",
       "      <th>movieId</th>\n",
       "      <th>imdbId</th>\n",
       "      <th>year</th>\n",
       "    </tr>\n",
       "  </thead>\n",
       "  <tbody>\n",
       "    <tr>\n",
       "      <th>0</th>\n",
       "      <td>;title;genre;movieId;imdbI</td>\n",
       "      <td>0</td>\n",
       "      <td>0</td>\n",
       "      <td>0</td>\n",
       "      <td>;yea</td>\n",
       "    </tr>\n",
       "    <tr>\n",
       "      <th>1</th>\n",
       "      <td>1;Toy Story ;Animation|Children's|Comedy;1;11470</td>\n",
       "      <td>0</td>\n",
       "      <td>1</td>\n",
       "      <td>114709</td>\n",
       "      <td>;199</td>\n",
       "    </tr>\n",
       "    <tr>\n",
       "      <th>2</th>\n",
       "      <td>2;Jumanji ;Adventure|Children's|Fantasy;2;11349</td>\n",
       "      <td>0</td>\n",
       "      <td>2</td>\n",
       "      <td>113497</td>\n",
       "      <td>;199</td>\n",
       "    </tr>\n",
       "    <tr>\n",
       "      <th>3</th>\n",
       "      <td>3;Grumpier Old Men ;Comedy|Romance;3;11322</td>\n",
       "      <td>0</td>\n",
       "      <td>3</td>\n",
       "      <td>113228</td>\n",
       "      <td>;199</td>\n",
       "    </tr>\n",
       "    <tr>\n",
       "      <th>4</th>\n",
       "      <td>4;Waiting to Exhale ;Comedy|Drama;4;11488</td>\n",
       "      <td>0</td>\n",
       "      <td>4</td>\n",
       "      <td>114885</td>\n",
       "      <td>;199</td>\n",
       "    </tr>\n",
       "  </tbody>\n",
       "</table>\n",
       "</div>"
      ],
      "text/plain": [
       "                                              title  genre  movieId  imdbId  \\\n",
       "0                        ;title;genre;movieId;imdbI      0        0       0   \n",
       "1  1;Toy Story ;Animation|Children's|Comedy;1;11470      0        1  114709   \n",
       "2   2;Jumanji ;Adventure|Children's|Fantasy;2;11349      0        2  113497   \n",
       "3        3;Grumpier Old Men ;Comedy|Romance;3;11322      0        3  113228   \n",
       "4         4;Waiting to Exhale ;Comedy|Drama;4;11488      0        4  114885   \n",
       "\n",
       "   year  \n",
       "0  ;yea  \n",
       "1  ;199  \n",
       "2  ;199  \n",
       "3  ;199  \n",
       "4  ;199  "
      ]
     },
     "execution_count": 13,
     "metadata": {},
     "output_type": "execute_result"
    }
   ],
   "source": [
    "movies.head()"
   ]
  },
  {
   "cell_type": "code",
   "execution_count": 14,
   "metadata": {},
   "outputs": [
    {
     "data": {
      "text/html": [
       "<div>\n",
       "<style scoped>\n",
       "    .dataframe tbody tr th:only-of-type {\n",
       "        vertical-align: middle;\n",
       "    }\n",
       "\n",
       "    .dataframe tbody tr th {\n",
       "        vertical-align: top;\n",
       "    }\n",
       "\n",
       "    .dataframe thead th {\n",
       "        text-align: right;\n",
       "    }\n",
       "</style>\n",
       "<table border=\"1\" class=\"dataframe\">\n",
       "  <thead>\n",
       "    <tr style=\"text-align: right;\">\n",
       "      <th></th>\n",
       "      <th>title</th>\n",
       "      <th>genre</th>\n",
       "      <th>year</th>\n",
       "    </tr>\n",
       "  </thead>\n",
       "  <tbody>\n",
       "    <tr>\n",
       "      <th>0</th>\n",
       "      <td>;title;genre;movieId;imdbI</td>\n",
       "      <td>0</td>\n",
       "      <td>;yea</td>\n",
       "    </tr>\n",
       "    <tr>\n",
       "      <th>1</th>\n",
       "      <td>1;Toy Story ;Animation|Children's|Comedy;1;11470</td>\n",
       "      <td>0</td>\n",
       "      <td>;199</td>\n",
       "    </tr>\n",
       "    <tr>\n",
       "      <th>2</th>\n",
       "      <td>2;Jumanji ;Adventure|Children's|Fantasy;2;11349</td>\n",
       "      <td>0</td>\n",
       "      <td>;199</td>\n",
       "    </tr>\n",
       "    <tr>\n",
       "      <th>3</th>\n",
       "      <td>3;Grumpier Old Men ;Comedy|Romance;3;11322</td>\n",
       "      <td>0</td>\n",
       "      <td>;199</td>\n",
       "    </tr>\n",
       "    <tr>\n",
       "      <th>4</th>\n",
       "      <td>4;Waiting to Exhale ;Comedy|Drama;4;11488</td>\n",
       "      <td>0</td>\n",
       "      <td>;199</td>\n",
       "    </tr>\n",
       "  </tbody>\n",
       "</table>\n",
       "</div>"
      ],
      "text/plain": [
       "                                              title  genre  year\n",
       "0                        ;title;genre;movieId;imdbI      0  ;yea\n",
       "1  1;Toy Story ;Animation|Children's|Comedy;1;11470      0  ;199\n",
       "2   2;Jumanji ;Adventure|Children's|Fantasy;2;11349      0  ;199\n",
       "3        3;Grumpier Old Men ;Comedy|Romance;3;11322      0  ;199\n",
       "4         4;Waiting to Exhale ;Comedy|Drama;4;11488      0  ;199"
      ]
     },
     "execution_count": 14,
     "metadata": {},
     "output_type": "execute_result"
    }
   ],
   "source": [
    "movies = movies.loc[:, [\"title\", \"genre\", \"year\"]]\n",
    "movies.head()"
   ]
  },
  {
   "cell_type": "code",
   "execution_count": 15,
   "metadata": {},
   "outputs": [],
   "source": [
    "genre_list = \"Action*Adventure*Animation*Children's*Comedy*Crime*Documentary*Drama*Fantasy*Film-Noir*Horror*Musical*Mystery*Romance*Sci-Fi*Thriller*War*Western\".split(\"*\")"
   ]
  },
  {
   "cell_type": "code",
   "execution_count": 16,
   "metadata": {},
   "outputs": [
    {
     "data": {
      "text/plain": [
       "['Action',\n",
       " 'Adventure',\n",
       " 'Animation',\n",
       " \"Children's\",\n",
       " 'Comedy',\n",
       " 'Crime',\n",
       " 'Documentary',\n",
       " 'Drama',\n",
       " 'Fantasy',\n",
       " 'Film-Noir',\n",
       " 'Horror',\n",
       " 'Musical',\n",
       " 'Mystery',\n",
       " 'Romance',\n",
       " 'Sci-Fi',\n",
       " 'Thriller',\n",
       " 'War',\n",
       " 'Western']"
      ]
     },
     "execution_count": 16,
     "metadata": {},
     "output_type": "execute_result"
    }
   ],
   "source": [
    "genre_list"
   ]
  },
  {
   "cell_type": "code",
   "execution_count": 17,
   "metadata": {},
   "outputs": [],
   "source": [
    "# for i, g in enumerate(genre_list):\n",
    "#     movies[g] = movies.genre.apply(lambda x: 1 if g in x.split(\"|\") else 0)"
   ]
  },
  {
   "cell_type": "code",
   "execution_count": 19,
   "metadata": {},
   "outputs": [],
   "source": [
    "movies[\"tags\"] = (\n",
    "    movies[\"title\"] + \" \" +\n",
    "    movies[\"year\"].apply(str) + \" \" +\n",
    "    movies[\"genre\"].apply(lambda x: str(x).replace(\"|\", \" \"))\n",
    ")\n"
   ]
  },
  {
   "cell_type": "code",
   "execution_count": 21,
   "metadata": {},
   "outputs": [
    {
     "name": "stdout",
     "output_type": "stream",
     "text": [
      "0    0\n",
      "1    0\n",
      "2    0\n",
      "3    0\n",
      "4    0\n",
      "Name: genre, dtype: int64\n",
      "[<class 'int'>]\n"
     ]
    }
   ],
   "source": [
    "print(movies[\"genre\"].head())\n",
    "print(movies[\"genre\"].apply(type).unique())\n"
   ]
  },
  {
   "cell_type": "code",
   "execution_count": 22,
   "metadata": {},
   "outputs": [],
   "source": [
    "movies[\"genre\"] = movies[\"genre\"].apply(str)\n"
   ]
  },
  {
   "cell_type": "code",
   "execution_count": 23,
   "metadata": {},
   "outputs": [
    {
     "data": {
      "text/html": [
       "<div>\n",
       "<style scoped>\n",
       "    .dataframe tbody tr th:only-of-type {\n",
       "        vertical-align: middle;\n",
       "    }\n",
       "\n",
       "    .dataframe tbody tr th {\n",
       "        vertical-align: top;\n",
       "    }\n",
       "\n",
       "    .dataframe thead th {\n",
       "        text-align: right;\n",
       "    }\n",
       "</style>\n",
       "<table border=\"1\" class=\"dataframe\">\n",
       "  <thead>\n",
       "    <tr style=\"text-align: right;\">\n",
       "      <th></th>\n",
       "      <th>title</th>\n",
       "      <th>genre</th>\n",
       "      <th>year</th>\n",
       "      <th>tags</th>\n",
       "    </tr>\n",
       "  </thead>\n",
       "  <tbody>\n",
       "    <tr>\n",
       "      <th>0</th>\n",
       "      <td>;title;genre;movieId;imdbI</td>\n",
       "      <td>0</td>\n",
       "      <td>;yea</td>\n",
       "      <td>;title;genre;movieId;imdbI ;yea 0</td>\n",
       "    </tr>\n",
       "    <tr>\n",
       "      <th>1</th>\n",
       "      <td>1;Toy Story ;Animation|Children's|Comedy;1;11470</td>\n",
       "      <td>0</td>\n",
       "      <td>;199</td>\n",
       "      <td>1;Toy Story ;Animation|Children's|Comedy;1;114...</td>\n",
       "    </tr>\n",
       "    <tr>\n",
       "      <th>2</th>\n",
       "      <td>2;Jumanji ;Adventure|Children's|Fantasy;2;11349</td>\n",
       "      <td>0</td>\n",
       "      <td>;199</td>\n",
       "      <td>2;Jumanji ;Adventure|Children's|Fantasy;2;1134...</td>\n",
       "    </tr>\n",
       "    <tr>\n",
       "      <th>3</th>\n",
       "      <td>3;Grumpier Old Men ;Comedy|Romance;3;11322</td>\n",
       "      <td>0</td>\n",
       "      <td>;199</td>\n",
       "      <td>3;Grumpier Old Men ;Comedy|Romance;3;11322 ;199 0</td>\n",
       "    </tr>\n",
       "    <tr>\n",
       "      <th>4</th>\n",
       "      <td>4;Waiting to Exhale ;Comedy|Drama;4;11488</td>\n",
       "      <td>0</td>\n",
       "      <td>;199</td>\n",
       "      <td>4;Waiting to Exhale ;Comedy|Drama;4;11488 ;199 0</td>\n",
       "    </tr>\n",
       "  </tbody>\n",
       "</table>\n",
       "</div>"
      ],
      "text/plain": [
       "                                              title genre  year  \\\n",
       "0                        ;title;genre;movieId;imdbI     0  ;yea   \n",
       "1  1;Toy Story ;Animation|Children's|Comedy;1;11470     0  ;199   \n",
       "2   2;Jumanji ;Adventure|Children's|Fantasy;2;11349     0  ;199   \n",
       "3        3;Grumpier Old Men ;Comedy|Romance;3;11322     0  ;199   \n",
       "4         4;Waiting to Exhale ;Comedy|Drama;4;11488     0  ;199   \n",
       "\n",
       "                                                tags  \n",
       "0                  ;title;genre;movieId;imdbI ;yea 0  \n",
       "1  1;Toy Story ;Animation|Children's|Comedy;1;114...  \n",
       "2  2;Jumanji ;Adventure|Children's|Fantasy;2;1134...  \n",
       "3  3;Grumpier Old Men ;Comedy|Romance;3;11322 ;199 0  \n",
       "4   4;Waiting to Exhale ;Comedy|Drama;4;11488 ;199 0  "
      ]
     },
     "execution_count": 23,
     "metadata": {},
     "output_type": "execute_result"
    }
   ],
   "source": [
    "# movies.drop(axis=1, labels=[\"genre\"], inplace=True)\n",
    "movies.head()"
   ]
  },
  {
   "cell_type": "code",
   "execution_count": 24,
   "metadata": {},
   "outputs": [
    {
     "data": {
      "text/plain": [
       "(3884, 4)"
      ]
     },
     "execution_count": 24,
     "metadata": {},
     "output_type": "execute_result"
    }
   ],
   "source": [
    "movies.shape"
   ]
  },
  {
   "cell_type": "code",
   "execution_count": 25,
   "metadata": {},
   "outputs": [],
   "source": [
    "from sklearn.feature_extraction.text import TfidfVectorizer"
   ]
  },
  {
   "cell_type": "code",
   "execution_count": 26,
   "metadata": {},
   "outputs": [],
   "source": [
    "tf_idf = TfidfVectorizer()"
   ]
  },
  {
   "cell_type": "code",
   "execution_count": 27,
   "metadata": {},
   "outputs": [],
   "source": [
    "X = tf_idf.fit_transform(movies.tags)"
   ]
  },
  {
   "cell_type": "code",
   "execution_count": 28,
   "metadata": {},
   "outputs": [],
   "source": [
    "from sklearn.metrics.pairwise import cosine_similarity\n",
    "sim_mat = cosine_similarity(X, X)"
   ]
  },
  {
   "cell_type": "code",
   "execution_count": 29,
   "metadata": {},
   "outputs": [
    {
     "data": {
      "text/html": [
       "<div>\n",
       "<style scoped>\n",
       "    .dataframe tbody tr th:only-of-type {\n",
       "        vertical-align: middle;\n",
       "    }\n",
       "\n",
       "    .dataframe tbody tr th {\n",
       "        vertical-align: top;\n",
       "    }\n",
       "\n",
       "    .dataframe thead th {\n",
       "        text-align: right;\n",
       "    }\n",
       "</style>\n",
       "<table border=\"1\" class=\"dataframe\">\n",
       "  <thead>\n",
       "    <tr style=\"text-align: right;\">\n",
       "      <th></th>\n",
       "      <th>0</th>\n",
       "      <th>1</th>\n",
       "      <th>2</th>\n",
       "      <th>3</th>\n",
       "      <th>4</th>\n",
       "      <th>5</th>\n",
       "      <th>6</th>\n",
       "      <th>7</th>\n",
       "      <th>8</th>\n",
       "      <th>9</th>\n",
       "      <th>...</th>\n",
       "      <th>3874</th>\n",
       "      <th>3875</th>\n",
       "      <th>3876</th>\n",
       "      <th>3877</th>\n",
       "      <th>3878</th>\n",
       "      <th>3879</th>\n",
       "      <th>3880</th>\n",
       "      <th>3881</th>\n",
       "      <th>3882</th>\n",
       "      <th>3883</th>\n",
       "    </tr>\n",
       "  </thead>\n",
       "  <tbody>\n",
       "    <tr>\n",
       "      <th>0</th>\n",
       "      <td>1.0</td>\n",
       "      <td>0.000000</td>\n",
       "      <td>0.000000</td>\n",
       "      <td>0.000000</td>\n",
       "      <td>0.000000</td>\n",
       "      <td>0.000000</td>\n",
       "      <td>0.000000</td>\n",
       "      <td>0.000000</td>\n",
       "      <td>0.000000</td>\n",
       "      <td>0.000000</td>\n",
       "      <td>...</td>\n",
       "      <td>0.000000</td>\n",
       "      <td>0.000000</td>\n",
       "      <td>0.000000</td>\n",
       "      <td>0.000000</td>\n",
       "      <td>0.0</td>\n",
       "      <td>0.000000</td>\n",
       "      <td>0.000000</td>\n",
       "      <td>0.000000</td>\n",
       "      <td>0.000000</td>\n",
       "      <td>0.000000</td>\n",
       "    </tr>\n",
       "    <tr>\n",
       "      <th>1</th>\n",
       "      <td>0.0</td>\n",
       "      <td>1.000000</td>\n",
       "      <td>0.081074</td>\n",
       "      <td>0.031180</td>\n",
       "      <td>0.032917</td>\n",
       "      <td>0.030901</td>\n",
       "      <td>0.012937</td>\n",
       "      <td>0.039454</td>\n",
       "      <td>0.070982</td>\n",
       "      <td>0.012046</td>\n",
       "      <td>...</td>\n",
       "      <td>0.015351</td>\n",
       "      <td>0.015293</td>\n",
       "      <td>0.103828</td>\n",
       "      <td>0.000000</td>\n",
       "      <td>0.0</td>\n",
       "      <td>0.014492</td>\n",
       "      <td>0.000000</td>\n",
       "      <td>0.000000</td>\n",
       "      <td>0.000000</td>\n",
       "      <td>0.000000</td>\n",
       "    </tr>\n",
       "    <tr>\n",
       "      <th>2</th>\n",
       "      <td>0.0</td>\n",
       "      <td>0.081074</td>\n",
       "      <td>1.000000</td>\n",
       "      <td>0.010730</td>\n",
       "      <td>0.011328</td>\n",
       "      <td>0.010634</td>\n",
       "      <td>0.013432</td>\n",
       "      <td>0.013578</td>\n",
       "      <td>0.133649</td>\n",
       "      <td>0.012507</td>\n",
       "      <td>...</td>\n",
       "      <td>0.000000</td>\n",
       "      <td>0.000000</td>\n",
       "      <td>0.082485</td>\n",
       "      <td>0.000000</td>\n",
       "      <td>0.0</td>\n",
       "      <td>0.000000</td>\n",
       "      <td>0.000000</td>\n",
       "      <td>0.000000</td>\n",
       "      <td>0.000000</td>\n",
       "      <td>0.000000</td>\n",
       "    </tr>\n",
       "    <tr>\n",
       "      <th>3</th>\n",
       "      <td>0.0</td>\n",
       "      <td>0.031180</td>\n",
       "      <td>0.010730</td>\n",
       "      <td>1.000000</td>\n",
       "      <td>0.029711</td>\n",
       "      <td>0.027890</td>\n",
       "      <td>0.011676</td>\n",
       "      <td>0.084265</td>\n",
       "      <td>0.009395</td>\n",
       "      <td>0.010872</td>\n",
       "      <td>...</td>\n",
       "      <td>0.013856</td>\n",
       "      <td>0.013803</td>\n",
       "      <td>0.000000</td>\n",
       "      <td>0.000000</td>\n",
       "      <td>0.0</td>\n",
       "      <td>0.013080</td>\n",
       "      <td>0.000000</td>\n",
       "      <td>0.000000</td>\n",
       "      <td>0.000000</td>\n",
       "      <td>0.000000</td>\n",
       "    </tr>\n",
       "    <tr>\n",
       "      <th>4</th>\n",
       "      <td>0.0</td>\n",
       "      <td>0.032917</td>\n",
       "      <td>0.011328</td>\n",
       "      <td>0.029711</td>\n",
       "      <td>1.000000</td>\n",
       "      <td>0.029444</td>\n",
       "      <td>0.012327</td>\n",
       "      <td>0.037594</td>\n",
       "      <td>0.009918</td>\n",
       "      <td>0.011478</td>\n",
       "      <td>...</td>\n",
       "      <td>0.014628</td>\n",
       "      <td>0.025523</td>\n",
       "      <td>0.000000</td>\n",
       "      <td>0.010365</td>\n",
       "      <td>0.0</td>\n",
       "      <td>0.013809</td>\n",
       "      <td>0.010251</td>\n",
       "      <td>0.011007</td>\n",
       "      <td>0.010454</td>\n",
       "      <td>0.010841</td>\n",
       "    </tr>\n",
       "  </tbody>\n",
       "</table>\n",
       "<p>5 rows × 3884 columns</p>\n",
       "</div>"
      ],
      "text/plain": [
       "   0         1         2         3         4         5         6         7     \\\n",
       "0   1.0  0.000000  0.000000  0.000000  0.000000  0.000000  0.000000  0.000000   \n",
       "1   0.0  1.000000  0.081074  0.031180  0.032917  0.030901  0.012937  0.039454   \n",
       "2   0.0  0.081074  1.000000  0.010730  0.011328  0.010634  0.013432  0.013578   \n",
       "3   0.0  0.031180  0.010730  1.000000  0.029711  0.027890  0.011676  0.084265   \n",
       "4   0.0  0.032917  0.011328  0.029711  1.000000  0.029444  0.012327  0.037594   \n",
       "\n",
       "       8         9     ...      3874      3875      3876      3877  3878  \\\n",
       "0  0.000000  0.000000  ...  0.000000  0.000000  0.000000  0.000000   0.0   \n",
       "1  0.070982  0.012046  ...  0.015351  0.015293  0.103828  0.000000   0.0   \n",
       "2  0.133649  0.012507  ...  0.000000  0.000000  0.082485  0.000000   0.0   \n",
       "3  0.009395  0.010872  ...  0.013856  0.013803  0.000000  0.000000   0.0   \n",
       "4  0.009918  0.011478  ...  0.014628  0.025523  0.000000  0.010365   0.0   \n",
       "\n",
       "       3879      3880      3881      3882      3883  \n",
       "0  0.000000  0.000000  0.000000  0.000000  0.000000  \n",
       "1  0.014492  0.000000  0.000000  0.000000  0.000000  \n",
       "2  0.000000  0.000000  0.000000  0.000000  0.000000  \n",
       "3  0.013080  0.000000  0.000000  0.000000  0.000000  \n",
       "4  0.013809  0.010251  0.011007  0.010454  0.010841  \n",
       "\n",
       "[5 rows x 3884 columns]"
      ]
     },
     "execution_count": 29,
     "metadata": {},
     "output_type": "execute_result"
    }
   ],
   "source": [
    "pd.DataFrame(sim_mat).head()"
   ]
  },
  {
   "cell_type": "code",
   "execution_count": 30,
   "metadata": {},
   "outputs": [],
   "source": [
    "def kSimilarMovies(index, k = 10):\n",
    "    indices = []\n",
    "    score_series = pd.Series(sim_mat[index-1]).sort_values(ascending = False)\n",
    "    similarities = list(score_series.iloc[1:k+1])\n",
    "    top_k_indexes = list(score_series.iloc[1:k+1].index)\n",
    "    \n",
    "    for i in top_k_indexes:\n",
    "        indices.append(list(movies.index)[i])\n",
    "    return indices"
   ]
  },
  {
   "cell_type": "code",
   "execution_count": 31,
   "metadata": {},
   "outputs": [],
   "source": [
    "# movies = pd.read_csv(\"Data/movies.dat\", sep=\";\", index_col=0)\n",
    "# movies = movies.loc[:, [\"title\", \"genre\", \"year\"]]\n",
    "# movies[\"tags\"] = movies.title + \" \" + movies.year.apply(str) + \" \" + movies.genre.apply(lambda x: x.replace(\"|\", \" \"))\n",
    "# tf_idf = TfidfVectorizer()\n",
    "# X = tf_idf.fit_transform(movies.tags)\n",
    "# sim_mat = cosine_similarity(X, X)\n",
    "\n",
    "# indices = pd.Series(movies.index)\n",
    "\n",
    "# def kSimilarMovies(index, k = 10):\n",
    "#     indices = []\n",
    "#     score_series = pd.Series(sim_mat[index-1]).sort_values(ascending = False)\n",
    "#     similarities = list(score_series.iloc[1:k+1])\n",
    "#     top_k_indexes = list(score_series.iloc[1:k+1].index)\n",
    "\n",
    "#     for i in top_k_indexes:\n",
    "#         indices.append(list(movies.index)[i])\n",
    "#     return indices"
   ]
  },
  {
   "cell_type": "code",
   "execution_count": 33,
   "metadata": {},
   "outputs": [
    {
     "name": "stdout",
     "output_type": "stream",
     "text": [
      "Index([   0,    1,    2,    3,    4,    5,    6,    7,    8,    9,\n",
      "       ...\n",
      "       3874, 3875, 3876, 3877, 3878, 3879, 3880, 3881, 3882, 3883],\n",
      "      dtype='int64', length=3884)\n",
      "                                              title genre  year  \\\n",
      "0                        ;title;genre;movieId;imdbI     0  ;yea   \n",
      "1  1;Toy Story ;Animation|Children's|Comedy;1;11470     0  ;199   \n",
      "2   2;Jumanji ;Adventure|Children's|Fantasy;2;11349     0  ;199   \n",
      "3        3;Grumpier Old Men ;Comedy|Romance;3;11322     0  ;199   \n",
      "4         4;Waiting to Exhale ;Comedy|Drama;4;11488     0  ;199   \n",
      "\n",
      "                                                tags  \n",
      "0                  ;title;genre;movieId;imdbI ;yea 0  \n",
      "1  1;Toy Story ;Animation|Children's|Comedy;1;114...  \n",
      "2  2;Jumanji ;Adventure|Children's|Fantasy;2;1134...  \n",
      "3  3;Grumpier Old Men ;Comedy|Romance;3;11322 ;199 0  \n",
      "4   4;Waiting to Exhale ;Comedy|Drama;4;11488 ;199 0  \n"
     ]
    }
   ],
   "source": [
    "print(movies.index)  # Shows the index (labels) of the DataFrame\n",
    "print(movies.head())  # Preview the DataFrame structure\n"
   ]
  },
  {
   "cell_type": "code",
   "execution_count": 34,
   "metadata": {},
   "outputs": [
    {
     "name": "stdout",
     "output_type": "stream",
     "text": [
      "3937;Runaway ;Sci-Fi|Thriller;3937;8802\n",
      "3936;Phantom of the Opera, The ;Drama|Thriller;3936;3626\n",
      "12;Dracula: Dead and Loving It ;Comedy|Horror;12;11289\n",
      "3952;Contender, The ;Drama|Thriller;3952;20887\n",
      "1;Toy Story ;Animation|Children's|Comedy;1;11470\n",
      "2;Jumanji ;Adventure|Children's|Fantasy;2;11349\n",
      "3;Grumpier Old Men ;Comedy|Romance;3;11322\n",
      "4;Waiting to Exhale ;Comedy|Drama;4;11488\n",
      "5;Father of the Bride Part II ;Comedy;5;11304\n",
      "6;Heat ;Action|Crime|Thriller;6;11327\n"
     ]
    }
   ],
   "source": [
    "for i in kSimilarMovies(1):\n",
    "    print(movies.iloc[i][\"title\"])\n"
   ]
  },
  {
   "cell_type": "code",
   "execution_count": 36,
   "metadata": {},
   "outputs": [
    {
     "data": {
      "text/plain": [
       "title           868;Death in Brunswick ;Comedy;868;10169\n",
       "genre                                                  0\n",
       "year                                                ;199\n",
       "tags     868;Death in Brunswick ;Comedy;868;10169 ;199 0\n",
       "Name: 858, dtype: object"
      ]
     },
     "execution_count": 36,
     "metadata": {},
     "output_type": "execute_result"
    }
   ],
   "source": [
    "movies.iloc[858]"
   ]
  },
  {
   "cell_type": "code",
   "execution_count": 37,
   "metadata": {},
   "outputs": [
    {
     "data": {
      "text/plain": [
       "1"
      ]
     },
     "execution_count": 37,
     "metadata": {},
     "output_type": "execute_result"
    }
   ],
   "source": [
    "list(movies.index)[1]"
   ]
  },
  {
   "cell_type": "code",
   "execution_count": null,
   "metadata": {
    "collapsed": true,
    "jupyter": {
     "outputs_hidden": true
    }
   },
   "outputs": [],
   "source": []
  }
 ],
 "metadata": {
  "kernelspec": {
   "display_name": "Python 3 (ipykernel)",
   "language": "python",
   "name": "python3"
  },
  "language_info": {
   "codemirror_mode": {
    "name": "ipython",
    "version": 3
   },
   "file_extension": ".py",
   "mimetype": "text/x-python",
   "name": "python",
   "nbconvert_exporter": "python",
   "pygments_lexer": "ipython3",
   "version": "3.12.3"
  }
 },
 "nbformat": 4,
 "nbformat_minor": 4
}
